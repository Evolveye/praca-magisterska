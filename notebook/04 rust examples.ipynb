{
 "cells": [
  {
   "cell_type": "code",
   "execution_count": null,
   "metadata": {
    "vscode": {
     "languageId": "rust"
    }
   },
   "outputs": [],
   "source": [
    "struct Material {}\n",
    "\n",
    "struct Voxel<'a> {\n",
    "    _material: &'a Material,\n",
    "    _red: u8,\n",
    "    _green: u8,\n",
    "    _blue: u8,\n",
    "}\n",
    "\n",
    "fn main() {\n",
    "    let material = Material {};\n",
    "    let voxel = Voxel {\n",
    "        _material: &material,\n",
    "        _red: 50,\n",
    "        _green: 100,\n",
    "        _blue: 200,\n",
    "    };\n",
    "\n",
    "    println!( \"voxel={}, pointer={}\", size_of_val( &voxel ), size_of_val( &&voxel ) );\n",
    "}"
   ]
  },
  {
   "cell_type": "code",
   "execution_count": null,
   "metadata": {
    "vscode": {
     "languageId": "rust"
    }
   },
   "outputs": [],
   "source": [
    "struct Material {}\n",
    "struct Color {\n",
    "    _red: u8,\n",
    "    _green: u8,\n",
    "    _blue: u8,\n",
    "}\n",
    "struct CommonVoxelData<'a> {\n",
    "    _material: &'a Material,\n",
    "    _color: &'a Color,\n",
    "}\n",
    "\n",
    "struct Voxel<'a> {\n",
    "    _individual_data: Option<&'a Material>,\n",
    "    _common_data: &'a CommonVoxelData<'a>,\n",
    "}\n",
    "\n",
    "fn main() {\n",
    "    let material = Material {};\n",
    "    let color = Color {\n",
    "        _red: 50,\n",
    "        _green: 100,\n",
    "        _blue: 200,\n",
    "    };\n",
    "    let common_voxel_data = CommonVoxelData {\n",
    "        _material: &material,\n",
    "        _color: &color,\n",
    "    };\n",
    "\n",
    "    let voxel = Voxel {\n",
    "        _common_data: &common_voxel_data,\n",
    "        _individual_data: None,\n",
    "    };\n",
    "\n",
    "    println!( \"voxel={}, pointer={}\", size_of_val( &voxel ), size_of_val( &&voxel ) );\n",
    "}"
   ]
  }
 ],
 "metadata": {
  "language_info": {
   "name": "rust"
  }
 },
 "nbformat": 4,
 "nbformat_minor": 2
}
