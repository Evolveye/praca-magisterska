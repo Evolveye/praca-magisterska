{
 "cells": [
  {
   "cell_type": "markdown",
   "metadata": {},
   "source": [
    "# World structure"
   ]
  },
  {
   "cell_type": "markdown",
   "metadata": {},
   "source": [
    "Below are shown structures described in previous notebook."
   ]
  },
  {
   "cell_type": "code",
   "execution_count": 1,
   "metadata": {},
   "outputs": [
    {
     "name": "stdout",
     "output_type": "stream",
     "text": [
      "block = 4_096\n",
      "chunk = 16_777_216\n",
      "cluster = 68_719_476_736\n"
     ]
    }
   ],
   "source": [
    "block = 16 * 16 * 16 # voxels\n",
    "chunk = block * (16 * 16 * 16)\n",
    "cluster = chunk * (16 * 16 * 16)\n",
    "\n",
    "print( f\"{block = :_}\" )\n",
    "print( f\"{chunk = :_}\" )\n",
    "print( f\"{cluster = :_}\" )"
   ]
  },
  {
   "cell_type": "markdown",
   "metadata": {},
   "source": [
    "World can grow in every direction in 3D space. Program should be able to extend and reduce world data stored in memory. Also, world should be able to load independent chunks on any coordinates. Structures that can achieve this are:\n",
    "\n",
    "- **Dynamic Array** -- An n-dimensional array. Keep in mind, it can be hard to store **any** chunk.\n",
    "  - Vector\n",
    "  - Volumetric grid\n",
    "- **Tree Structures** -- Objects with pointers to other objects. Also with **any** chunk problems.\n",
    "  - b-tree\n",
    "  - kd-tree\n",
    "  - Quadtree\n",
    "  - Octree\n",
    "  - OctoMap\n",
    "  - Polytree\n",
    "  - BSP tree\n",
    "- **Spatial Hashing** -- Hash table for loaded data. It is free from any chunk problem\n",
    "  - Voxel hashing"
   ]
  },
  {
   "cell_type": "markdown",
   "metadata": {},
   "source": [
    "If terrain is 16 by 16 chunks, then the structure have to store 256 chunks. For non-array solutions, the structure have to check many items inside and/or rebuild itself."
   ]
  }
 ],
 "metadata": {
  "kernelspec": {
   "display_name": "Python 3",
   "language": "python",
   "name": "python3"
  },
  "language_info": {
   "codemirror_mode": {
    "name": "ipython",
    "version": 3
   },
   "file_extension": ".py",
   "mimetype": "text/x-python",
   "name": "python",
   "nbconvert_exporter": "python",
   "pygments_lexer": "ipython3",
   "version": "3.11.0"
  }
 },
 "nbformat": 4,
 "nbformat_minor": 2
}
