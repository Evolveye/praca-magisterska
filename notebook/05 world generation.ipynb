{
 "cells": [
  {
   "cell_type": "markdown",
   "metadata": {},
   "source": [
    "Naive selecting chunks around newly generated chunk"
   ]
  },
  {
   "cell_type": "code",
   "execution_count": null,
   "metadata": {
    "vscode": {
     "languageId": "javascript"
    }
   },
   "outputs": [],
   "source": [
    "r = 2\n",
    "map = [\n",
    "  [ 1, 1, 1 ],\n",
    "  [ 1, 1, 1 ],\n",
    "  [ 1, 1, 1 ],\n",
    "]\n",
    "\n",
    "function genN({ x, y }) {\n",
    "  const n = []\n",
    "\n",
    "  if (map[ y ]?.[ x - 1 ]) {\n",
    "    if (map[ y ]?.[ x + 1 ]) return n\n",
    "    if (map[ y - 1 ]?.[ x ]) {\n",
    "      if (map[ y + 1 ]?.[ x ]) return n\n",
    "      n.push({ x:x + r, y:y + r })\n",
    "    } else {\n",
    "      if (map[ y + 1 ]?.[ x ]) {\n",
    "        n.push({ x:x + r, y:y - r })\n",
    "      } else {\n",
    "        for (let i = y - r;  i <= y + r;  ++i) n.push({ x:x + r, y:i })\n",
    "      }\n",
    "    }\n",
    "  } else {\n",
    "    if (map[ y ]?.[ x + 1 ]) {\n",
    "      if (map[ y - 1 ]?.[ x ]) {\n",
    "        if (map[ y + 1 ]?.[ x ]) return n\n",
    "        n.push({ x:x - r, y:y + r })\n",
    "      } else {\n",
    "        if (map[ y + 1 ]?.[ x ]) {\n",
    "          n.push({ x:x - r, y:y - r })\n",
    "        } else {\n",
    "          for (let i = y - r;  i <= y + r;  ++i) n.push({ x:x - r, y:i })\n",
    "        }\n",
    "      }\n",
    "    } else {\n",
    "      if (map[ y - 1 ]?.[ x ]) {\n",
    "        if (map[ y + 1 ]?.[ x ]) return n\n",
    "        for (let i = x - r;  i <= x + r;  ++i) n.push({ x:i, y:y + r })\n",
    "      } else {\n",
    "        if (map[ y + 1 ]?.[ x ]) {\n",
    "          for (let i = x - r;  i <= x + r;  ++i) n.push({ x:i, y:y - r })\n",
    "        } else {\n",
    "          for (let iy = y - r;  iy <= y + r;  ++iy) {\n",
    "            for (let ix = x - r;  ix <= x + r;  ++ix) {\n",
    "              n.push({ x:ix, y:iy })\n",
    "            }\n",
    "          }\n",
    "        }\n",
    "      }\n",
    "    }\n",
    "  }\n",
    "\n",
    "  return n\n",
    "}\n",
    "\n"
   ]
  }
 ],
 "metadata": {
  "language_info": {
   "name": "python"
  }
 },
 "nbformat": 4,
 "nbformat_minor": 2
}
