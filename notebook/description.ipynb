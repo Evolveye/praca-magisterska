{
 "cells": [
  {
   "cell_type": "markdown",
   "metadata": {},
   "source": [
    "# Notebook"
   ]
  },
  {
   "cell_type": "markdown",
   "metadata": {},
   "source": [
    "## Definitions"
   ]
  },
  {
   "cell_type": "markdown",
   "metadata": {},
   "source": [
    "- **voxel**: _**vo**lumetric pi**xel**_ smallest simulated object\n",
    "- **block**: defined for comparing with Minecraft purposes. Its dimensions are $16 \\cdot 16 \\cdot 16 $ voxels\n",
    "- **chunk**: smallest loadable from memory world data. Its dimensions are $256 \\cdot 256 \\cdot 256$ voxels, or $16 \\cdot 16 \\cdot 16$ blocks\n",
    "- **cluster**: smallest saveable on disc world data. Its dimensions are $16 \\cdot 16 \\cdot 16$ chunks"
   ]
  },
  {
   "cell_type": "code",
   "execution_count": 2,
   "metadata": {},
   "outputs": [
    {
     "name": "stdout",
     "output_type": "stream",
     "text": [
      "block = 4_096\n",
      "chunk = 16_777_216\n",
      "cluster = 68_719_476_736\n"
     ]
    }
   ],
   "source": [
    "block = 16 * 16 * 16 # voxels\n",
    "chunk = block * (16 * 16 * 16)\n",
    "cluster = chunk * (16 * 16 * 16)\n",
    "\n",
    "print( f\"{block = :_}\" )\n",
    "print( f\"{chunk = :_}\" )\n",
    "print( f\"{cluster = :_}\" )"
   ]
  },
  {
   "cell_type": "markdown",
   "metadata": {},
   "source": [
    "Every voxel should know its color and material (in comparsion with Minecraft -- block owning it). At this moment, let's assume $2^{32}$ materials."
   ]
  },
  {
   "cell_type": "code",
   "execution_count": 25,
   "metadata": {},
   "outputs": [
    {
     "name": "stdout",
     "output_type": "stream",
     "text": [
      "voxel_info_size = {'block_type': 32, 'color': 32}\n",
      "info_to_store_sum = 64\n"
     ]
    }
   ],
   "source": [
    "voxel_info_size = { # bits\n",
    "  'block_type': 32,\n",
    "  'color': 8 + 8 + 8 + 8\n",
    "}\n",
    "\n",
    "info_to_store_sum = sum( voxel_info_size.values() )\n",
    "\n",
    "print( f\"{voxel_info_size = }\" )\n",
    "print( f\"{info_to_store_sum = :_}\" )"
   ]
  },
  {
   "cell_type": "markdown",
   "metadata": {},
   "source": [
    "## Estimations"
   ]
  },
  {
   "cell_type": "code",
   "execution_count": 26,
   "metadata": {},
   "outputs": [],
   "source": [
    "# helper functions\n",
    "\n",
    "def number_bits( x:int ):\n",
    "    return 1 if x == 0 else x.bit_length()\n",
    "\n",
    "def next_power_of_two( x:int ):\n",
    "    return 1 if x == 0 else 2 ** (x - 1).bit_length()"
   ]
  },
  {
   "cell_type": "markdown",
   "metadata": {},
   "source": [
    "For the world to be diverse, it must be filled by different things. Let's assume below list of *things*"
   ]
  },
  {
   "cell_type": "code",
   "execution_count": 37,
   "metadata": {},
   "outputs": [
    {
     "name": "stdout",
     "output_type": "stream",
     "text": [
      "things_count = 80\n",
      "things_power_of_two_count = 128\n"
     ]
    }
   ],
   "source": [
    "things = {\n",
    "  'crops': 15,\n",
    "  'flowers': 15,\n",
    "  'trees': 5,\n",
    "  'dirt-like': 10,\n",
    "  'stones': 10,\n",
    "  'fluids': 5,\n",
    "  'others': 20,\n",
    "}\n",
    "\n",
    "things_count = sum( things.values() )\n",
    "\n",
    "print( f\"{things_count = :_}\" )\n",
    "print( f\"things_power_of_two_count = {next_power_of_two( things_count ):_}\" )"
   ]
  },
  {
   "cell_type": "markdown",
   "metadata": {},
   "source": [
    "Bits needed to store `things_count` value, should be a minimal size of the voxel `block_type` property. This implies the following calculations"
   ]
  },
  {
   "cell_type": "code",
   "execution_count": 43,
   "metadata": {},
   "outputs": [
    {
     "name": "stdout",
     "output_type": "stream",
     "text": [
      "types_per_cluster = 128\n",
      "types_per_cluster * voxels_in_cluster = 8_796_093_022_208\n",
      "types_per_cluster * voxels_in_cluster [Gib] = 8_192.0\n",
      "types_per_cluster * voxels_in_cluster [GiB] = 1_024.0\n"
     ]
    }
   ],
   "source": [
    "def print_estimations():\n",
    "  types_per_cluster = next_power_of_two( things_count )\n",
    "\n",
    "  print( f\"{types_per_cluster = :_}\" )\n",
    "  print( f\"types_per_cluster * voxels_in_cluster = {types_per_cluster * cluster:_}\" )\n",
    "  print( f\"types_per_cluster * voxels_in_cluster [Gib] = {(types_per_cluster * cluster) / 1024 ** 3:_}\" )\n",
    "  print( f\"types_per_cluster * voxels_in_cluster [GiB] = {(types_per_cluster * cluster) / 1024 ** 3 / 8:_}\" )\n",
    "\n",
    "print_estimations()"
   ]
  },
  {
   "cell_type": "markdown",
   "metadata": {},
   "source": [
    "Above calculations means that, very basic optimisation requires ~1TB of memory space. This is absolutely unacceptable"
   ]
  },
  {
   "cell_type": "markdown",
   "metadata": {},
   "source": [
    "## Comparsion"
   ]
  },
  {
   "cell_type": "code",
   "execution_count": 48,
   "metadata": {},
   "outputs": [
    {
     "name": "stdout",
     "output_type": "stream",
     "text": [
      "minecraft_chunk = 81_920\n",
      "minecraft_simulation_blocks = 83_886_080\n",
      "block_types_bits = 10\n",
      "minecraft_simulation_blocks [MiB] = 100.0\n"
     ]
    }
   ],
   "source": [
    "def print_minecraft_numbers():\n",
    "  minecraft_chunk_side = 16\n",
    "  minecraft_chunk = minecraft_chunk_side ** 2 * 320\n",
    "  minecraft_simulation_distance_in_chunks = 16\n",
    "  minecraft_simulation_blocks = minecraft_chunk * (minecraft_simulation_distance_in_chunks * 2) ** 2\n",
    "  block_types_bits = number_bits( 1000 )\n",
    "\n",
    "  print( f\"{minecraft_chunk = :_}\" )\n",
    "  print( f\"{minecraft_simulation_blocks = :_}\" )\n",
    "  print( f\"{block_types_bits = :_}\" )\n",
    "  print( f\"minecraft_simulation_blocks [MiB] = {(minecraft_simulation_blocks * block_types_bits) / 1024 ** 2 / 8:_}\" )\n",
    "\n",
    "print_minecraft_numbers()"
   ]
  }
 ],
 "metadata": {
  "kernelspec": {
   "display_name": "Python 3",
   "language": "python",
   "name": "python3"
  },
  "language_info": {
   "codemirror_mode": {
    "name": "ipython",
    "version": 3
   },
   "file_extension": ".py",
   "mimetype": "text/x-python",
   "name": "python",
   "nbconvert_exporter": "python",
   "pygments_lexer": "ipython3",
   "version": "3.11.0"
  }
 },
 "nbformat": 4,
 "nbformat_minor": 2
}
